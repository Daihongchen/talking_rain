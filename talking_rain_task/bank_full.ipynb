{
 "cells": [
  {
   "cell_type": "code",
   "execution_count": 1,
   "metadata": {},
   "outputs": [
    {
     "name": "stderr",
     "output_type": "stream",
     "text": [
      "/Users/daihongchen/opt/anaconda3/envs/learn-env/lib/python3.6/site-packages/statsmodels/tools/_testing.py:19: FutureWarning: pandas.util.testing is deprecated. Use the functions in the public API at pandas.testing instead.\n",
      "  import pandas.util.testing as tm\n"
     ]
    }
   ],
   "source": [
    "import pandas as pd\n",
    "import re\n",
    "import matplotlib.pyplot as plt\n",
    "from matplotlib.patches import Patch\n",
    "from matplotlib.lines import Line2D\n",
    "import seaborn as sns\n",
    "\n",
    "from sklearn.model_selection import train_test_split, cross_validate, cross_val_predict\n",
    "from sklearn.preprocessing import StandardScaler, OneHotEncoder\n",
    "from sklearn.tree import DecisionTreeClassifier\n",
    "from sklearn.ensemble import RandomForestClassifier\n",
    "from sklearn.neighbors import KNeighborsClassifier\n",
    "from sklearn.ensemble import BaggingClassifier, GradientBoostingClassifier, StackingClassifier \n",
    "from sklearn.linear_model import LogisticRegression\n",
    "from sklearn.metrics import accuracy_score, precision_score, recall_score, f1_score, confusion_matrix, classification_report\n",
    "from sklearn.metrics import roc_curve, auc, roc_auc_score"
   ]
  },
  {
   "cell_type": "markdown",
   "metadata": {},
   "source": [
    "# Findings:\n",
    "\n",
    "## Step 2: Explore what the features tell us about the output variable.\n",
    "The output variable is very inbalanced. 89% of clients did not subscribe the deposite.\n",
    "\n",
    "Continuous variables is very spread out and skewed.\n",
    "\n",
    "There are some outliers in balance, and duration. Will remove these outliers because the number of ouliers is very small.\n",
    "\n",
    "## Step 3: Using any of the features, build a model to predict the output variable and explain why or why not a feature is included in the model.\n",
    "I built stacking model with estimators as logistic regression, random forest tree, and gradient boosting. The stack model picks the different characteristics from each model and generates an aggregated results. \n",
    "\n",
    "## Step 4: Report how accurate the model predicts a test set.\n",
    "\n",
    "Due to the outcome variable is very inbalanced, the accuracy score is not appropriate to measure the model performance. \n",
    "\n",
    "I built 4 different stacking models and the model 3 has a slighter higher performance than the other models with the metrics on the test set of data:\n",
    "\n",
    "Accuracy: 0.872\n",
    "\n",
    "Precision: 0.421\n",
    "\n",
    "Recall: 0.83\n",
    "\n",
    "F1: 0.58\n",
    "\n",
    "The model has a high score on the sensitivity, which means if a client described the deposite, it could fairly accurately predict it. Nevertheless, when it predicts a client as yes, it is not very accurate due to the precision score is low.\n",
    "\n",
    "## Steps in the future:\n",
    "\n",
    "Try to collect more variables.\n",
    "\n",
    "The duration of call has a high positive coefficient on the outcome variable, and also has high feature performance from random forest model. Therefore, it is suggested long conversation engages clients more and would help convert the client to subscribe the deposite. \n"
   ]
  },
  {
   "cell_type": "code",
   "execution_count": 2,
   "metadata": {},
   "outputs": [],
   "source": [
    "# get the data\n",
    "df = pd.read_csv('bank-full.csv')"
   ]
  },
  {
   "cell_type": "code",
   "execution_count": 3,
   "metadata": {},
   "outputs": [],
   "source": [
    "# create a list for columns\n",
    "columns = df.columns.values[0]\n",
    "columns = re.sub(r'[\" \"]', '', columns).split(\";\")"
   ]
  },
  {
   "cell_type": "code",
   "execution_count": 4,
   "metadata": {},
   "outputs": [],
   "source": [
    "# reform the table:\n",
    "data=[]\n",
    "for row in df['age;\"job\";\"marital\";\"education\";\"default\";\"balance\";\"housing\";\"loan\";\"contact\";\"day\";\"month\";\"duration\";\"campaign\";\"pdays\";\"previous\";\"poutcome\";\"y\"']:\n",
    "    data.append((re.sub(r'[\" \"]', '', row).split(\";\")))  \n",
    "\n",
    "# transform the list of lists into DataFrame\n",
    "bank_df = pd.DataFrame(data, columns = columns)\n",
    "\n",
    "# convert datatypes for numerical variables or numbers\n",
    "bank_df = bank_df.astype({'age':'int', 'balance':'int', 'duration':'int', 'pdays':'int', 'duration': 'int', 'campaign':'int', 'pdays':'int', 'previous':'int'})\n",
    "\n",
    "# create a new variable that combines day and month\n",
    "bank_df['day_month'] = bank_df['day']+'-'+bank_df['month']\n",
    "\n",
    "bank_df['y']=(bank_df['y']=='yes').astype('int')"
   ]
  },
  {
   "cell_type": "code",
   "execution_count": 6,
   "metadata": {},
   "outputs": [
    {
     "data": {
      "text/plain": [
       "age          0\n",
       "job          0\n",
       "marital      0\n",
       "education    0\n",
       "default      0\n",
       "balance      0\n",
       "housing      0\n",
       "loan         0\n",
       "contact      0\n",
       "day          0\n",
       "month        0\n",
       "duration     0\n",
       "campaign     0\n",
       "pdays        0\n",
       "previous     0\n",
       "poutcome     0\n",
       "y            0\n",
       "day_month    0\n",
       "dtype: int64"
      ]
     },
     "execution_count": 6,
     "metadata": {},
     "output_type": "execute_result"
    }
   ],
   "source": [
    "# check missing values\n",
    "bank_df.isnull().sum()"
   ]
  },
  {
   "cell_type": "code",
   "execution_count": 7,
   "metadata": {},
   "outputs": [
    {
     "data": {
      "text/html": [
       "<div>\n",
       "<style scoped>\n",
       "    .dataframe tbody tr th:only-of-type {\n",
       "        vertical-align: middle;\n",
       "    }\n",
       "\n",
       "    .dataframe tbody tr th {\n",
       "        vertical-align: top;\n",
       "    }\n",
       "\n",
       "    .dataframe thead th {\n",
       "        text-align: right;\n",
       "    }\n",
       "</style>\n",
       "<table border=\"1\" class=\"dataframe\">\n",
       "  <thead>\n",
       "    <tr style=\"text-align: right;\">\n",
       "      <th></th>\n",
       "      <th>age</th>\n",
       "      <th>job</th>\n",
       "      <th>marital</th>\n",
       "      <th>education</th>\n",
       "      <th>default</th>\n",
       "      <th>balance</th>\n",
       "      <th>housing</th>\n",
       "      <th>loan</th>\n",
       "      <th>contact</th>\n",
       "      <th>day</th>\n",
       "      <th>month</th>\n",
       "      <th>duration</th>\n",
       "      <th>campaign</th>\n",
       "      <th>pdays</th>\n",
       "      <th>previous</th>\n",
       "      <th>poutcome</th>\n",
       "      <th>y</th>\n",
       "      <th>day_month</th>\n",
       "    </tr>\n",
       "  </thead>\n",
       "  <tbody>\n",
       "    <tr>\n",
       "      <th>0</th>\n",
       "      <td>58</td>\n",
       "      <td>management</td>\n",
       "      <td>married</td>\n",
       "      <td>tertiary</td>\n",
       "      <td>no</td>\n",
       "      <td>2143</td>\n",
       "      <td>yes</td>\n",
       "      <td>no</td>\n",
       "      <td>unknown</td>\n",
       "      <td>5</td>\n",
       "      <td>may</td>\n",
       "      <td>261</td>\n",
       "      <td>1</td>\n",
       "      <td>-1</td>\n",
       "      <td>0</td>\n",
       "      <td>unknown</td>\n",
       "      <td>0</td>\n",
       "      <td>5-may</td>\n",
       "    </tr>\n",
       "    <tr>\n",
       "      <th>1</th>\n",
       "      <td>44</td>\n",
       "      <td>technician</td>\n",
       "      <td>single</td>\n",
       "      <td>secondary</td>\n",
       "      <td>no</td>\n",
       "      <td>29</td>\n",
       "      <td>yes</td>\n",
       "      <td>no</td>\n",
       "      <td>unknown</td>\n",
       "      <td>5</td>\n",
       "      <td>may</td>\n",
       "      <td>151</td>\n",
       "      <td>1</td>\n",
       "      <td>-1</td>\n",
       "      <td>0</td>\n",
       "      <td>unknown</td>\n",
       "      <td>0</td>\n",
       "      <td>5-may</td>\n",
       "    </tr>\n",
       "    <tr>\n",
       "      <th>2</th>\n",
       "      <td>33</td>\n",
       "      <td>entrepreneur</td>\n",
       "      <td>married</td>\n",
       "      <td>secondary</td>\n",
       "      <td>no</td>\n",
       "      <td>2</td>\n",
       "      <td>yes</td>\n",
       "      <td>yes</td>\n",
       "      <td>unknown</td>\n",
       "      <td>5</td>\n",
       "      <td>may</td>\n",
       "      <td>76</td>\n",
       "      <td>1</td>\n",
       "      <td>-1</td>\n",
       "      <td>0</td>\n",
       "      <td>unknown</td>\n",
       "      <td>0</td>\n",
       "      <td>5-may</td>\n",
       "    </tr>\n",
       "    <tr>\n",
       "      <th>3</th>\n",
       "      <td>47</td>\n",
       "      <td>blue-collar</td>\n",
       "      <td>married</td>\n",
       "      <td>unknown</td>\n",
       "      <td>no</td>\n",
       "      <td>1506</td>\n",
       "      <td>yes</td>\n",
       "      <td>no</td>\n",
       "      <td>unknown</td>\n",
       "      <td>5</td>\n",
       "      <td>may</td>\n",
       "      <td>92</td>\n",
       "      <td>1</td>\n",
       "      <td>-1</td>\n",
       "      <td>0</td>\n",
       "      <td>unknown</td>\n",
       "      <td>0</td>\n",
       "      <td>5-may</td>\n",
       "    </tr>\n",
       "    <tr>\n",
       "      <th>4</th>\n",
       "      <td>33</td>\n",
       "      <td>unknown</td>\n",
       "      <td>single</td>\n",
       "      <td>unknown</td>\n",
       "      <td>no</td>\n",
       "      <td>1</td>\n",
       "      <td>no</td>\n",
       "      <td>no</td>\n",
       "      <td>unknown</td>\n",
       "      <td>5</td>\n",
       "      <td>may</td>\n",
       "      <td>198</td>\n",
       "      <td>1</td>\n",
       "      <td>-1</td>\n",
       "      <td>0</td>\n",
       "      <td>unknown</td>\n",
       "      <td>0</td>\n",
       "      <td>5-may</td>\n",
       "    </tr>\n",
       "  </tbody>\n",
       "</table>\n",
       "</div>"
      ],
      "text/plain": [
       "   age           job  marital  education default  balance housing loan  \\\n",
       "0   58    management  married   tertiary      no     2143     yes   no   \n",
       "1   44    technician   single  secondary      no       29     yes   no   \n",
       "2   33  entrepreneur  married  secondary      no        2     yes  yes   \n",
       "3   47   blue-collar  married    unknown      no     1506     yes   no   \n",
       "4   33       unknown   single    unknown      no        1      no   no   \n",
       "\n",
       "   contact day month  duration  campaign  pdays  previous poutcome  y  \\\n",
       "0  unknown   5   may       261         1     -1         0  unknown  0   \n",
       "1  unknown   5   may       151         1     -1         0  unknown  0   \n",
       "2  unknown   5   may        76         1     -1         0  unknown  0   \n",
       "3  unknown   5   may        92         1     -1         0  unknown  0   \n",
       "4  unknown   5   may       198         1     -1         0  unknown  0   \n",
       "\n",
       "  day_month  \n",
       "0     5-may  \n",
       "1     5-may  \n",
       "2     5-may  \n",
       "3     5-may  \n",
       "4     5-may  "
      ]
     },
     "execution_count": 7,
     "metadata": {},
     "output_type": "execute_result"
    }
   ],
   "source": [
    "# look at the data\n",
    "bank_df.head()"
   ]
  },
  {
   "cell_type": "code",
   "execution_count": 8,
   "metadata": {},
   "outputs": [
    {
     "data": {
      "text/html": [
       "<div>\n",
       "<style scoped>\n",
       "    .dataframe tbody tr th:only-of-type {\n",
       "        vertical-align: middle;\n",
       "    }\n",
       "\n",
       "    .dataframe tbody tr th {\n",
       "        vertical-align: top;\n",
       "    }\n",
       "\n",
       "    .dataframe thead th {\n",
       "        text-align: right;\n",
       "    }\n",
       "</style>\n",
       "<table border=\"1\" class=\"dataframe\">\n",
       "  <thead>\n",
       "    <tr style=\"text-align: right;\">\n",
       "      <th></th>\n",
       "      <th>age</th>\n",
       "      <th>balance</th>\n",
       "      <th>duration</th>\n",
       "      <th>campaign</th>\n",
       "      <th>pdays</th>\n",
       "      <th>previous</th>\n",
       "      <th>y</th>\n",
       "    </tr>\n",
       "  </thead>\n",
       "  <tbody>\n",
       "    <tr>\n",
       "      <th>count</th>\n",
       "      <td>45211.000000</td>\n",
       "      <td>45211.000000</td>\n",
       "      <td>45211.000000</td>\n",
       "      <td>45211.000000</td>\n",
       "      <td>45211.000000</td>\n",
       "      <td>45211.000000</td>\n",
       "      <td>45211.000000</td>\n",
       "    </tr>\n",
       "    <tr>\n",
       "      <th>mean</th>\n",
       "      <td>40.936210</td>\n",
       "      <td>1362.272058</td>\n",
       "      <td>258.163080</td>\n",
       "      <td>2.763841</td>\n",
       "      <td>40.197828</td>\n",
       "      <td>0.580323</td>\n",
       "      <td>0.116985</td>\n",
       "    </tr>\n",
       "    <tr>\n",
       "      <th>std</th>\n",
       "      <td>10.618762</td>\n",
       "      <td>3044.765829</td>\n",
       "      <td>257.527812</td>\n",
       "      <td>3.098021</td>\n",
       "      <td>100.128746</td>\n",
       "      <td>2.303441</td>\n",
       "      <td>0.321406</td>\n",
       "    </tr>\n",
       "    <tr>\n",
       "      <th>min</th>\n",
       "      <td>18.000000</td>\n",
       "      <td>-8019.000000</td>\n",
       "      <td>0.000000</td>\n",
       "      <td>1.000000</td>\n",
       "      <td>-1.000000</td>\n",
       "      <td>0.000000</td>\n",
       "      <td>0.000000</td>\n",
       "    </tr>\n",
       "    <tr>\n",
       "      <th>25%</th>\n",
       "      <td>33.000000</td>\n",
       "      <td>72.000000</td>\n",
       "      <td>103.000000</td>\n",
       "      <td>1.000000</td>\n",
       "      <td>-1.000000</td>\n",
       "      <td>0.000000</td>\n",
       "      <td>0.000000</td>\n",
       "    </tr>\n",
       "    <tr>\n",
       "      <th>50%</th>\n",
       "      <td>39.000000</td>\n",
       "      <td>448.000000</td>\n",
       "      <td>180.000000</td>\n",
       "      <td>2.000000</td>\n",
       "      <td>-1.000000</td>\n",
       "      <td>0.000000</td>\n",
       "      <td>0.000000</td>\n",
       "    </tr>\n",
       "    <tr>\n",
       "      <th>75%</th>\n",
       "      <td>48.000000</td>\n",
       "      <td>1428.000000</td>\n",
       "      <td>319.000000</td>\n",
       "      <td>3.000000</td>\n",
       "      <td>-1.000000</td>\n",
       "      <td>0.000000</td>\n",
       "      <td>0.000000</td>\n",
       "    </tr>\n",
       "    <tr>\n",
       "      <th>max</th>\n",
       "      <td>95.000000</td>\n",
       "      <td>102127.000000</td>\n",
       "      <td>4918.000000</td>\n",
       "      <td>63.000000</td>\n",
       "      <td>871.000000</td>\n",
       "      <td>275.000000</td>\n",
       "      <td>1.000000</td>\n",
       "    </tr>\n",
       "  </tbody>\n",
       "</table>\n",
       "</div>"
      ],
      "text/plain": [
       "                age        balance      duration      campaign         pdays  \\\n",
       "count  45211.000000   45211.000000  45211.000000  45211.000000  45211.000000   \n",
       "mean      40.936210    1362.272058    258.163080      2.763841     40.197828   \n",
       "std       10.618762    3044.765829    257.527812      3.098021    100.128746   \n",
       "min       18.000000   -8019.000000      0.000000      1.000000     -1.000000   \n",
       "25%       33.000000      72.000000    103.000000      1.000000     -1.000000   \n",
       "50%       39.000000     448.000000    180.000000      2.000000     -1.000000   \n",
       "75%       48.000000    1428.000000    319.000000      3.000000     -1.000000   \n",
       "max       95.000000  102127.000000   4918.000000     63.000000    871.000000   \n",
       "\n",
       "           previous             y  \n",
       "count  45211.000000  45211.000000  \n",
       "mean       0.580323      0.116985  \n",
       "std        2.303441      0.321406  \n",
       "min        0.000000      0.000000  \n",
       "25%        0.000000      0.000000  \n",
       "50%        0.000000      0.000000  \n",
       "75%        0.000000      0.000000  \n",
       "max      275.000000      1.000000  "
      ]
     },
     "execution_count": 8,
     "metadata": {},
     "output_type": "execute_result"
    }
   ],
   "source": [
    "# desriptive statistics for numerical variables\n",
    "bank_df.describe()"
   ]
  },
  {
   "cell_type": "code",
   "execution_count": 69,
   "metadata": {},
   "outputs": [
    {
     "data": {
      "text/plain": [
       "0    0.88607\n",
       "1    0.11393\n",
       "Name: y, dtype: float64"
      ]
     },
     "execution_count": 69,
     "metadata": {},
     "output_type": "execute_result"
    }
   ],
   "source": [
    "bank_df['y'].value_counts(normalize=True)"
   ]
  },
  {
   "cell_type": "markdown",
   "metadata": {},
   "source": [
    "## Findings:\n",
    "Data are very spread out, very skewed on most of features. \n",
    "1. Continuous variables is very spread out and skewed. \n",
    "2. There are some outliers in balance, and duration. Will remove these outliers because the number of ouliers is very small."
   ]
  },
  {
   "cell_type": "code",
   "execution_count": 57,
   "metadata": {},
   "outputs": [],
   "source": [
    "## revmove outliers. \n",
    "bank_df =bank_df[(bank_df['balance']<8000) & (bank_df['duration']<3000) & (bank_df['balance']> -1500) & (bank_df['pdays']<400)]"
   ]
  },
  {
   "cell_type": "markdown",
   "metadata": {},
   "source": [
    "## Visualize the relationship between features and target variable"
   ]
  },
  {
   "cell_type": "code",
   "execution_count": 66,
   "metadata": {},
   "outputs": [
    {
     "name": "stderr",
     "output_type": "stream",
     "text": [
      "W0723 16:11:49.841504 4599463360 legend.py:1282] No handles with labels found to put in legend.\n"
     ]
    },
    {
     "data": {
      "text/plain": [
       "<matplotlib.legend.Legend at 0x1740b0550>"
      ]
     },
     "execution_count": 66,
     "metadata": {},
     "output_type": "execute_result"
    },
    {
     "data": {
      "image/png": "[encoded data removed]",
      "text/plain": [
       "<Figure size 1440x1152 with 15 Axes>"
      ]
     },
     "metadata": {
      "needs_background": "light"
     },
     "output_type": "display_data"
    }
   ],
   "source": [
    "fig, ax = plt.subplots(nrows=5, ncols=3, figsize=(20, 16))\n",
    "\n",
    "##\n",
    "ax[0,0].hist(bank_df[bank_df[\"y\"]==0][\"age\"], bins=15, alpha=0.5, color=\"blue\", label=\"no\")\n",
    "ax[0,0].hist(bank_df[bank_df[\"y\"]==1][\"age\"], bins=15, alpha=0.5, color=\"green\", label=\"yes\")\n",
    "\n",
    "ax[0,0].set_xlabel(\"Age\")\n",
    "ax[0,0].set_ylabel(\"Count of clients\")\n",
    "\n",
    "fig.suptitle(\"Age vs. y for clients\")\n",
    "ax[0,0].legend();\n",
    "\n",
    "##\n",
    "ax[0,1].hist(bank_df[bank_df[\"y\"]==0][\"balance\"], bins=15, alpha=0.5, color=\"blue\", label=\"no\")\n",
    "ax[0,1].hist(bank_df[bank_df[\"y\"]==1][\"balance\"], bins=15, alpha=0.5, color=\"green\", label=\"yes\")\n",
    "\n",
    "ax[0,1].set_xlabel(\"balance\")\n",
    "ax[0,1].set_ylabel(\"Count of clients\")\n",
    "\n",
    "fig.suptitle(\"balance vs. y for clients\")\n",
    "ax[0,1].legend()\n",
    "\n",
    "##\n",
    "sns.boxplot(x= bank_df[\"y\"], y=bank_df[\"duration\"], ax=ax[0,2])\n",
    "#ax[0,2].hist(bank_df[bank_df[\"y\"]==1][\"duration\"], bins=15, alpha=0.5, color=\"green\", label=\"yes\")\n",
    "#ax[0,2].set_xlabel(\"pdays\")\n",
    "#ax[0,2].set_ylabel(\"Count of clients\")\n",
    "fig.suptitle(\"duration vs. y for clients\")\n",
    "ax[0,2].legend()\n",
    "\n",
    "##\n",
    "ax[1,0].hist(bank_df[bank_df[\"y\"]==0][\"pdays\"], bins=15, alpha=0.5, color=\"blue\", label=\"no\")\n",
    "ax[1,0].hist(bank_df[bank_df[\"y\"]==1][\"pdays\"], bins=15, alpha=0.5, color=\"green\", label=\"yes\")\n",
    "ax[1,0].set_xlabel(\"pdays\")\n",
    "ax[1,0].set_ylabel(\"Count of clients\")\n",
    "\n",
    "fig.suptitle(\"pdays vs. y for clients\")\n",
    "ax[1,0].legend()\n",
    "\n",
    "##\n",
    "ax[1,1].hist(bank_df[bank_df[\"y\"]==0][\"campaign\"], bins=15, alpha=0.5, color=\"blue\", label=\"no\")\n",
    "ax[1,1].hist(bank_df[bank_df[\"y\"]==1][\"campaign\"], bins=15, alpha=0.5, color=\"green\", label=\"yes\")\n",
    "ax[1,1].set_xlabel(\"campaign\")\n",
    "ax[1,1].set_ylabel(\"Count of clients\")\n",
    "\n",
    "fig.suptitle(\"campaign vs. y for clients\")\n",
    "ax[1,1].legend()\n",
    "\n",
    "##\n",
    "ax[1,2].hist(bank_df[bank_df[\"y\"]==0][\"previous\"], bins=15, alpha=0.5, color=\"blue\", label=\"no\")\n",
    "ax[1,2].hist(bank_df[bank_df[\"y\"]==1][\"previous\"], bins=15, alpha=0.5, color=\"green\", label=\"yes\")\n",
    "ax[1,2].set_xlabel(\"previous\")\n",
    "ax[1,2].set_ylabel(\"Count of clients\")\n",
    "\n",
    "fig.suptitle(\"previous vs. y for clients\")\n",
    "ax[1,2].legend()\n",
    "\n",
    "##\n",
    "ax[2,0].hist(bank_df[bank_df[\"y\"]==0][\"education\"], bins=15, alpha=0.5, color=\"blue\", label=\"no\")\n",
    "ax[2,0].hist(bank_df[bank_df[\"y\"]==1][\"education\"], bins=15, alpha=0.5, color=\"green\", label=\"yes\")\n",
    "ax[2,0].set_xlabel(\"education\")\n",
    "ax[2,0].set_ylabel(\"Count of clients\")\n",
    "\n",
    "fig.suptitle(\"education vs. y for clients\")\n",
    "ax[2,0].legend()\n",
    "\n",
    "\n",
    "##\n",
    "ax[2,1].hist(bank_df[bank_df[\"y\"]==0][\"marital\"], bins=15, alpha=0.5, color=\"blue\", label=\"no\")\n",
    "ax[2,1].hist(bank_df[bank_df[\"y\"]==1][\"marital\"], bins=15, alpha=0.5, color=\"green\", label=\"yes\")\n",
    "ax[2,1].set_xlabel(\"marital\")\n",
    "ax[2,1].set_ylabel(\"Count of clients\")\n",
    "\n",
    "fig.suptitle(\"marital status vs. y for clients\")\n",
    "ax[2,1].legend()\n",
    "\n",
    "##\n",
    "ax[2,2].hist(bank_df[bank_df[\"y\"]==0][\"housing\"], bins=15, alpha=0.5, color=\"blue\", label=\"no\")\n",
    "ax[2,2].hist(bank_df[bank_df[\"y\"]==1][\"housing\"], bins=15, alpha=0.5, color=\"green\", label=\"yes\")\n",
    "ax[2,2].set_xlabel(\"housing\")\n",
    "ax[2,2].set_ylabel(\"Count of clients\")\n",
    "\n",
    "fig.suptitle(\"housing status vs. y for clients\")\n",
    "ax[2,2].legend()\n",
    "\n",
    "##\n",
    "\n",
    "ax[3,0].hist(bank_df[bank_df[\"y\"]==0][\"loan\"], bins=15, alpha=0.5, color=\"blue\", label=\"no\")\n",
    "ax[3,0].hist(bank_df[bank_df[\"y\"]==1][\"loan\"], bins=15, alpha=0.5, color=\"green\", label=\"yes\")\n",
    "ax[3,0].set_xlabel(\"loan\")\n",
    "ax[3,0].set_ylabel(\"Count of clients\")\n",
    "\n",
    "fig.suptitle(\"housing status vs. y for clients\")\n",
    "\n",
    "##\n",
    "ax[3,0].legend()\n",
    "ax[3,1].hist(bank_df[bank_df[\"y\"]==0][\"contact\"], bins=15, alpha=0.5, color=\"blue\", label=\"no\")\n",
    "ax[3,1].hist(bank_df[bank_df[\"y\"]==1][\"contact\"], bins=15, alpha=0.5, color=\"green\", label=\"yes\")\n",
    "ax[3,1].set_xlabel(\"contact\")\n",
    "ax[3,1].set_ylabel(\"Count of clients\")\n",
    "\n",
    "fig.suptitle(\"contact status vs. y for clients\")\n",
    "ax[3,1].legend()\n",
    "\n",
    "##\n",
    "ax[3,2].hist(bank_df[bank_df[\"y\"]==0][\"poutcome\"], bins=15, alpha=0.5, color=\"blue\", label=\"no\")\n",
    "ax[3,2].hist(bank_df[bank_df[\"y\"]==1][\"poutcome\"], bins=15, alpha=0.5, color=\"green\", label=\"yes\")\n",
    "ax[3,2].set_xlabel(\"poutcome\")\n",
    "ax[3,2].set_ylabel(\"Count of clients\")\n",
    "\n",
    "fig.suptitle(\"poutcome status vs. y for clients\")\n",
    "\n",
    "ax[3,2].legend()\n",
    "\n",
    "ax[4,0].hist(bank_df[bank_df[\"y\"]==0][\"default\"], bins=15, alpha=0.5, color=\"blue\", label=\"no\")\n",
    "ax[4,0].hist(bank_df[bank_df[\"y\"]==1][\"default\"], bins=15, alpha=0.5, color=\"green\", label=\"yes\")\n",
    "ax[4,0].set_xlabel(\"default\")\n",
    "ax[4,0].set_ylabel(\"Count of clients\")\n",
    "\n",
    "\n",
    "ax[4,0].legend()"
   ]
  },
  {
   "cell_type": "code",
   "execution_count": 13,
   "metadata": {},
   "outputs": [
    {
     "data": {
      "image/png": "[encoded data removed]",
      "text/plain": [
       "<Figure size 1152x432 with 1 Axes>"
      ]
     },
     "metadata": {
      "needs_background": "light"
     },
     "output_type": "display_data"
    }
   ],
   "source": [
    "fig, ax = plt.subplots(figsize = (16, 6)) \n",
    "\n",
    "ax.hist(bank_df[bank_df[\"y\"]==0][\"job\"], bins=15, alpha=0.5, color=\"blue\", label=\"no\")\n",
    "ax.hist(bank_df[bank_df[\"y\"]==1][\"job\"], bins=15, alpha=0.5, color=\"green\", label=\"yes\")\n",
    "\n",
    "ax.set_xlabel(\"job\")\n",
    "ax.set_ylabel(\"Count of clients\")\n",
    "\n",
    "fig.suptitle(\"job vs. y for clients\")\n",
    "\n",
    "ax.legend();"
   ]
  },
  {
   "cell_type": "code",
   "execution_count": 14,
   "metadata": {},
   "outputs": [
    {
     "data": {
      "text/plain": [
       "<matplotlib.axes._subplots.AxesSubplot at 0x133ce8668>"
      ]
     },
     "execution_count": 14,
     "metadata": {},
     "output_type": "execute_result"
    },
    {
     "data": {
      "image/png": "[encoded data removed]",
      "text/plain": [
       "<Figure size 432x288 with 1 Axes>"
      ]
     },
     "metadata": {
      "needs_background": "light"
     },
     "output_type": "display_data"
    }
   ],
   "source": [
    "bank_df.groupby('previous')['y'].mean().plot()"
   ]
  },
  {
   "cell_type": "code",
   "execution_count": 15,
   "metadata": {},
   "outputs": [],
   "source": [
    "df_cor = bank_df[['age', 'balance', 'duration', 'campaign', 'pdays', 'previous' ]]"
   ]
  },
  {
   "cell_type": "code",
   "execution_count": 16,
   "metadata": {},
   "outputs": [
    {
     "data": {
      "text/html": [
       "<div>\n",
       "<style scoped>\n",
       "    .dataframe tbody tr th:only-of-type {\n",
       "        vertical-align: middle;\n",
       "    }\n",
       "\n",
       "    .dataframe tbody tr th {\n",
       "        vertical-align: top;\n",
       "    }\n",
       "\n",
       "    .dataframe thead th {\n",
       "        text-align: right;\n",
       "    }\n",
       "</style>\n",
       "<table border=\"1\" class=\"dataframe\">\n",
       "  <thead>\n",
       "    <tr style=\"text-align: right;\">\n",
       "      <th></th>\n",
       "      <th>age</th>\n",
       "      <th>balance</th>\n",
       "      <th>duration</th>\n",
       "      <th>campaign</th>\n",
       "      <th>pdays</th>\n",
       "      <th>previous</th>\n",
       "    </tr>\n",
       "  </thead>\n",
       "  <tbody>\n",
       "    <tr>\n",
       "      <th>age</th>\n",
       "      <td>1.000000</td>\n",
       "      <td>0.108310</td>\n",
       "      <td>-0.007370</td>\n",
       "      <td>0.005482</td>\n",
       "      <td>-0.024987</td>\n",
       "      <td>0.000619</td>\n",
       "    </tr>\n",
       "    <tr>\n",
       "      <th>balance</th>\n",
       "      <td>0.108310</td>\n",
       "      <td>1.000000</td>\n",
       "      <td>0.038012</td>\n",
       "      <td>-0.023649</td>\n",
       "      <td>0.010332</td>\n",
       "      <td>0.031937</td>\n",
       "    </tr>\n",
       "    <tr>\n",
       "      <th>duration</th>\n",
       "      <td>-0.007370</td>\n",
       "      <td>0.038012</td>\n",
       "      <td>1.000000</td>\n",
       "      <td>-0.086626</td>\n",
       "      <td>-0.001241</td>\n",
       "      <td>0.002087</td>\n",
       "    </tr>\n",
       "    <tr>\n",
       "      <th>campaign</th>\n",
       "      <td>0.005482</td>\n",
       "      <td>-0.023649</td>\n",
       "      <td>-0.086626</td>\n",
       "      <td>1.000000</td>\n",
       "      <td>-0.086331</td>\n",
       "      <td>-0.030881</td>\n",
       "    </tr>\n",
       "    <tr>\n",
       "      <th>pdays</th>\n",
       "      <td>-0.024987</td>\n",
       "      <td>0.010332</td>\n",
       "      <td>-0.001241</td>\n",
       "      <td>-0.086331</td>\n",
       "      <td>1.000000</td>\n",
       "      <td>0.459738</td>\n",
       "    </tr>\n",
       "    <tr>\n",
       "      <th>previous</th>\n",
       "      <td>0.000619</td>\n",
       "      <td>0.031937</td>\n",
       "      <td>0.002087</td>\n",
       "      <td>-0.030881</td>\n",
       "      <td>0.459738</td>\n",
       "      <td>1.000000</td>\n",
       "    </tr>\n",
       "  </tbody>\n",
       "</table>\n",
       "</div>"
      ],
      "text/plain": [
       "               age   balance  duration  campaign     pdays  previous\n",
       "age       1.000000  0.108310 -0.007370  0.005482 -0.024987  0.000619\n",
       "balance   0.108310  1.000000  0.038012 -0.023649  0.010332  0.031937\n",
       "duration -0.007370  0.038012  1.000000 -0.086626 -0.001241  0.002087\n",
       "campaign  0.005482 -0.023649 -0.086626  1.000000 -0.086331 -0.030881\n",
       "pdays    -0.024987  0.010332 -0.001241 -0.086331  1.000000  0.459738\n",
       "previous  0.000619  0.031937  0.002087 -0.030881  0.459738  1.000000"
      ]
     },
     "execution_count": 16,
     "metadata": {},
     "output_type": "execute_result"
    }
   ],
   "source": [
    "df_cor.corr()"
   ]
  },
  {
   "cell_type": "code",
   "execution_count": 17,
   "metadata": {},
   "outputs": [
    {
     "data": {
      "text/plain": [
       "[<matplotlib.lines.Line2D at 0x133f71748>]"
      ]
     },
     "execution_count": 17,
     "metadata": {},
     "output_type": "execute_result"
    },
    {
     "data": {
      "image/png": "[encoded data removed]",
      "text/plain": [
       "<Figure size 1440x432 with 1 Axes>"
      ]
     },
     "metadata": {
      "needs_background": "light"
     },
     "output_type": "display_data"
    }
   ],
   "source": [
    "fig, ax = plt.subplots(figsize = (20, 6)) \n",
    "\n",
    "ax.plot( bank_df['month'], bank_df['pdays'])"
   ]
  },
  {
   "cell_type": "markdown",
   "metadata": {},
   "source": [
    "## Findings from the visualization:\n",
    "\n",
    "1.There are variances of outcome target on the features of balance, duration, housing, and campaign. \n",
    "2.the continuous variables have low correlation with each other. So that, there is no neccesary to remove features due to high correlations. "
   ]
  },
  {
   "cell_type": "markdown",
   "metadata": {},
   "source": [
    "## one hot encode, standardize, and split the data for modeling:"
   ]
  },
  {
   "cell_type": "code",
   "execution_count": 18,
   "metadata": {},
   "outputs": [
    {
     "data": {
      "text/plain": [
       "43641"
      ]
     },
     "execution_count": 18,
     "metadata": {},
     "output_type": "execute_result"
    }
   ],
   "source": [
    "df_set = bank_df.copy()\n",
    "df_set['default']=(df_set['default']=='yes').astype('int')\n",
    "df_set['housing']=(df_set['housing']=='yes').astype('int')\n",
    "df_set['loan'] = (df_set['loan']=='yes').astype('int')\n",
    "len(df_set)"
   ]
  },
  {
   "cell_type": "code",
   "execution_count": 19,
   "metadata": {},
   "outputs": [],
   "source": [
    "ohe = OneHotEncoder(sparse = False)"
   ]
  },
  {
   "cell_type": "code",
   "execution_count": 20,
   "metadata": {},
   "outputs": [],
   "source": [
    "ohe_job = pd.DataFrame(ohe.fit_transform(pd.DataFrame(df_set['job'])), columns = ohe.get_feature_names())\n",
    "ohe_marital = pd.DataFrame(ohe.fit_transform(pd.DataFrame(df_set['marital'])), columns = ohe.get_feature_names())\n",
    "ohe_edu = pd.DataFrame(ohe.fit_transform(pd.DataFrame(df_set['education'])), columns = ohe.get_feature_names())\n",
    "ohe_contact = pd.DataFrame(ohe.fit_transform(pd.DataFrame(df_set['contact'])), columns = ohe.get_feature_names())\n",
    "ohe_month = pd.DataFrame(ohe.fit_transform(pd.DataFrame(df_set['month'])), columns = ohe.get_feature_names())\n",
    "ohe_poutcome = pd.DataFrame(ohe.fit_transform(pd.DataFrame(df_set['poutcome'])), columns = ohe.get_feature_names())"
   ]
  },
  {
   "cell_type": "code",
   "execution_count": 21,
   "metadata": {},
   "outputs": [],
   "source": [
    "df_encode = pd.concat([df_set, ohe_job], axis = 1)\n",
    "df_encode = pd.concat([df_encode, ohe_marital], axis = 1)\n",
    "df_encode = pd.concat([df_encode, ohe_edu], axis = 1)\n",
    "df_encode = pd.concat([df_encode, ohe_contact], axis = 1)\n",
    "df_encode = pd.concat([df_encode, ohe_month], axis = 1)\n",
    "df_encode = pd.concat([df_encode, ohe_poutcome], axis = 1).dropna()"
   ]
  },
  {
   "cell_type": "code",
   "execution_count": 22,
   "metadata": {},
   "outputs": [],
   "source": [
    "X = df_encode.drop(['job', 'marital', 'education', 'contact', 'month', 'poutcome', 'day', 'day_month', 'y'], axis=1)\n",
    "y = df_encode['y']"
   ]
  },
  {
   "cell_type": "code",
   "execution_count": 23,
   "metadata": {},
   "outputs": [],
   "source": [
    "X_train, X_test, y_train, y_test = train_test_split(X, y, random_state=42)"
   ]
  },
  {
   "cell_type": "code",
   "execution_count": 24,
   "metadata": {},
   "outputs": [],
   "source": [
    "ss = StandardScaler()\n",
    "\n",
    "X_train = ss.fit_transform(X_train)\n",
    "X_test = ss.fit_transform(X_test)"
   ]
  },
  {
   "cell_type": "markdown",
   "metadata": {},
   "source": [
    "## Build the predictive model \n",
    "Stacking model is applied in this project"
   ]
  },
  {
   "cell_type": "code",
   "execution_count": 25,
   "metadata": {},
   "outputs": [
    {
     "data": {
      "text/plain": [
       "0.9946691060500915"
      ]
     },
     "execution_count": 25,
     "metadata": {},
     "output_type": "execute_result"
    }
   ],
   "source": [
    "estimators = [  \n",
    "              ('rf', RandomForestClassifier(n_estimators = 100)),\n",
    "              ('log', LogisticRegression(solver = 'liblinear')),\n",
    "              ('grad', GradientBoostingClassifier())]\n",
    "stack = StackingClassifier(estimators = estimators, final_estimator = LogisticRegression(), cv = 5)\n",
    "stack.fit(X_train, y_train);\n",
    "stack.score(X_train, y_train)"
   ]
  },
  {
   "cell_type": "code",
   "execution_count": 26,
   "metadata": {},
   "outputs": [],
   "source": [
    "def metrics(y_true, y_pred):\n",
    "    print('Accuracy: ' + str(accuracy_score(y_true, y_pred)))\n",
    "    print('Precision: ' + str(precision_score(y_true, y_pred)))\n",
    "    print('Recall: ' + str(recall_score(y_true, y_pred)))\n",
    "    print('F1: ' + str(f1_score(y_true, y_pred)))\n",
    "    print('\\n')"
   ]
  },
  {
   "cell_type": "code",
   "execution_count": 27,
   "metadata": {},
   "outputs": [
    {
     "name": "stdout",
     "output_type": "stream",
     "text": [
      "Accuracy: 0.9122823618470856\n",
      "Precision: 0.5742574257425742\n",
      "Recall: 0.39341085271317827\n",
      "F1: 0.4669350201265095\n",
      "\n",
      "\n"
     ]
    }
   ],
   "source": [
    "metrics(y_test, stack.predict(X_test))"
   ]
  },
  {
   "cell_type": "code",
   "execution_count": 28,
   "metadata": {},
   "outputs": [
    {
     "name": "stdout",
     "output_type": "stream",
     "text": [
      "RandomForestClassifier(bootstrap=True, ccp_alpha=0.0, class_weight=None,\n",
      "                       criterion='gini', max_depth=None, max_features='auto',\n",
      "                       max_leaf_nodes=None, max_samples=None,\n",
      "                       min_impurity_decrease=0.0, min_impurity_split=None,\n",
      "                       min_samples_leaf=1, min_samples_split=2,\n",
      "                       min_weight_fraction_leaf=0.0, n_estimators=100,\n",
      "                       n_jobs=None, oob_score=False, random_state=None,\n",
      "                       verbose=0, warm_start=False)\n",
      "Accuracy: 0.9120931112793338\n",
      "Precision: 0.6032064128256514\n",
      "Recall: 0.2916666666666667\n",
      "F1: 0.3932070542129327\n",
      "\n",
      "\n",
      "LogisticRegression(C=1.0, class_weight=None, dual=False, fit_intercept=True,\n",
      "                   intercept_scaling=1, l1_ratio=None, max_iter=100,\n",
      "                   multi_class='auto', n_jobs=None, penalty='l2',\n",
      "                   random_state=None, solver='liblinear', tol=0.0001, verbose=0,\n",
      "                   warm_start=False)\n",
      "Accuracy: 0.9104844814534444\n",
      "Precision: 0.5907172995780591\n",
      "Recall: 0.2713178294573643\n",
      "F1: 0.37184594953519257\n",
      "\n",
      "\n",
      "GradientBoostingClassifier(ccp_alpha=0.0, criterion='friedman_mse', init=None,\n",
      "                           learning_rate=0.1, loss='deviance', max_depth=3,\n",
      "                           max_features=None, max_leaf_nodes=None,\n",
      "                           min_impurity_decrease=0.0, min_impurity_split=None,\n",
      "                           min_samples_leaf=1, min_samples_split=2,\n",
      "                           min_weight_fraction_leaf=0.0, n_estimators=100,\n",
      "                           n_iter_no_change=None, presort='deprecated',\n",
      "                           random_state=None, subsample=1.0, tol=0.0001,\n",
      "                           validation_fraction=0.1, verbose=0,\n",
      "                           warm_start=False)\n",
      "Accuracy: 0.9122823618470856\n",
      "Precision: 0.5909878682842288\n",
      "Recall: 0.33042635658914726\n",
      "F1: 0.42386575512740826\n",
      "\n",
      "\n"
     ]
    }
   ],
   "source": [
    "for i in stack.estimators_:\n",
    "    print(i)\n",
    "    metrics(y_test, i.predict(X_test))"
   ]
  },
  {
   "cell_type": "code",
   "execution_count": 29,
   "metadata": {},
   "outputs": [
    {
     "data": {
      "text/plain": [
       "0.9206043782726642"
      ]
     },
     "execution_count": 29,
     "metadata": {},
     "output_type": "execute_result"
    }
   ],
   "source": [
    "estimators = [  \n",
    "              ('rf', RandomForestClassifier(n_estimators = 100, class_weight='balanced')),\n",
    "              ('log', LogisticRegression(solver = 'liblinear', class_weight='balanced')),\n",
    "              ('grad', GradientBoostingClassifier())]\n",
    "stack_1 = StackingClassifier(estimators = estimators, final_estimator = LogisticRegression(class_weight='balanced'), cv = 5)\n",
    "stack_1.fit(X_train, y_train);\n",
    "stack_1.score(X_train, y_train)"
   ]
  },
  {
   "cell_type": "code",
   "execution_count": 30,
   "metadata": {},
   "outputs": [
    {
     "name": "stdout",
     "output_type": "stream",
     "text": [
      "RandomForestClassifier(bootstrap=True, ccp_alpha=0.0, class_weight='balanced',\n",
      "                       criterion='gini', max_depth=None, max_features='auto',\n",
      "                       max_leaf_nodes=None, max_samples=None,\n",
      "                       min_impurity_decrease=0.0, min_impurity_split=None,\n",
      "                       min_samples_leaf=1, min_samples_split=2,\n",
      "                       min_weight_fraction_leaf=0.0, n_estimators=100,\n",
      "                       n_jobs=None, oob_score=False, random_state=None,\n",
      "                       verbose=0, warm_start=False)\n",
      "Accuracy: 0.9084973504920515\n",
      "Precision: 0.5862068965517241\n",
      "Recall: 0.21414728682170542\n",
      "F1: 0.3136976579134137\n",
      "\n",
      "\n",
      "LogisticRegression(C=1.0, class_weight='balanced', dual=False,\n",
      "                   fit_intercept=True, intercept_scaling=1, l1_ratio=None,\n",
      "                   max_iter=100, multi_class='auto', n_jobs=None, penalty='l2',\n",
      "                   random_state=None, solver='liblinear', tol=0.0001, verbose=0,\n",
      "                   warm_start=False)\n",
      "Accuracy: 0.8302422407267221\n",
      "Precision: 0.34512195121951217\n",
      "Recall: 0.8226744186046512\n",
      "F1: 0.48625429553264604\n",
      "\n",
      "\n",
      "GradientBoostingClassifier(ccp_alpha=0.0, criterion='friedman_mse', init=None,\n",
      "                           learning_rate=0.1, loss='deviance', max_depth=3,\n",
      "                           max_features=None, max_leaf_nodes=None,\n",
      "                           min_impurity_decrease=0.0, min_impurity_split=None,\n",
      "                           min_samples_leaf=1, min_samples_split=2,\n",
      "                           min_weight_fraction_leaf=0.0, n_estimators=100,\n",
      "                           n_iter_no_change=None, presort='deprecated',\n",
      "                           random_state=None, subsample=1.0, tol=0.0001,\n",
      "                           validation_fraction=0.1, verbose=0,\n",
      "                           warm_start=False)\n",
      "Accuracy: 0.9122823618470856\n",
      "Precision: 0.5909878682842288\n",
      "Recall: 0.33042635658914726\n",
      "F1: 0.42386575512740826\n",
      "\n",
      "\n"
     ]
    }
   ],
   "source": [
    "for i in stack_1.estimators_:\n",
    "    print(i)\n",
    "    metrics(y_test, i.predict(X_test))"
   ]
  },
  {
   "cell_type": "code",
   "execution_count": 31,
   "metadata": {},
   "outputs": [
    {
     "name": "stdout",
     "output_type": "stream",
     "text": [
      "Accuracy: 0.8565480696442089\n",
      "Precision: 0.3904977375565611\n",
      "Recall: 0.8362403100775194\n",
      "F1: 0.5323874151758173\n",
      "\n",
      "\n"
     ]
    }
   ],
   "source": [
    "metrics(y_test, stack_1.predict(X_test))"
   ]
  },
  {
   "cell_type": "code",
   "execution_count": 34,
   "metadata": {},
   "outputs": [
    {
     "name": "stdout",
     "output_type": "stream",
     "text": [
      "[[ 5.58040678 -0.359494    2.93953069]]\n",
      "[[6.10759901 2.82808743 0.59627179]]\n",
      "[[7.68901197 3.33581784]]\n"
     ]
    }
   ],
   "source": [
    "print(stack.final_estimator_.coef_)\n",
    "print(stack_1.final_estimator_.coef_)\n",
    "print(stack_2.final_estimator_.coef_)"
   ]
  },
  {
   "cell_type": "code",
   "execution_count": 35,
   "metadata": {},
   "outputs": [
    {
     "data": {
      "text/plain": [
       "0.9490252980884487"
      ]
     },
     "execution_count": 35,
     "metadata": {},
     "output_type": "execute_result"
    }
   ],
   "source": [
    "estimators = [  \n",
    "              ('rf', RandomForestClassifier(n_estimators = 100, class_weight='balanced')),\n",
    "              ('grad', GradientBoostingClassifier())\n",
    "            ]\n",
    "stack_2 = StackingClassifier(estimators = estimators, final_estimator = LogisticRegression(class_weight='balanced'), cv = 5)\n",
    "stack_2.fit(X_train, y_train);\n",
    "stack_2.score(X_train, y_train)"
   ]
  },
  {
   "cell_type": "code",
   "execution_count": 36,
   "metadata": {},
   "outputs": [
    {
     "name": "stdout",
     "output_type": "stream",
     "text": [
      "Accuracy: 0.8719719909159728\n",
      "Precision: 0.42081894425259003\n",
      "Recall: 0.8265503875968992\n",
      "F1: 0.5576985943118666\n",
      "\n",
      "\n"
     ]
    }
   ],
   "source": [
    "metrics(y_test, stack_2.predict(X_test))"
   ]
  },
  {
   "cell_type": "code",
   "execution_count": 37,
   "metadata": {},
   "outputs": [
    {
     "name": "stdout",
     "output_type": "stream",
     "text": [
      "stack model logistic regression model coefficients:\n",
      "                      0\n",
      "age              -0.036\n",
      "default          -0.001\n",
      "balance           0.118\n",
      "housing          -0.465\n",
      "loan             -0.162\n",
      "duration          1.070\n",
      "campaign         -0.376\n",
      "pdays            -0.036\n",
      "previous          0.139\n",
      "x0_admin.         0.028\n",
      "x0_blue-collar   -0.084\n",
      "x0_entrepreneur  -0.029\n",
      "x0_housemaid     -0.019\n",
      "x0_management    -0.010\n",
      "x0_retired        0.097\n",
      "x0_self-employed -0.005\n",
      "x0_services      -0.001\n",
      "x0_student        0.087\n",
      "x0_technician     0.007\n",
      "x0_unemployed     0.021\n",
      "x0_unknown        0.001\n",
      "x0_divorced      -0.027\n",
      "x0_married       -0.007\n",
      "x0_single         0.027\n",
      "x0_primary       -0.001\n",
      "x0_secondary     -0.012\n",
      "x0_tertiary       0.014\n",
      "x0_unknown        0.000\n",
      "x0_cellular       0.226\n",
      "x0_telephone      0.142\n",
      "x0_unknown       -0.314\n",
      "x0_apr            0.159\n",
      "x0_aug           -0.034\n",
      "x0_dec            0.065\n",
      "x0_feb           -0.175\n",
      "x0_jan           -0.058\n",
      "x0_jul           -0.140\n",
      "x0_jun            0.072\n",
      "x0_mar            0.041\n",
      "x0_may            0.091\n",
      "x0_nov           -0.118\n",
      "x0_oct            0.158\n",
      "x0_sep            0.145\n",
      "x0_failure        0.037\n",
      "x0_other          0.030\n",
      "x0_success        0.154\n",
      "x0_unknown       -0.114\n",
      "stack_1 model logistic regression model coefficients:\n",
      "                      0\n",
      "age              -0.030\n",
      "default           0.005\n",
      "balance           0.139\n",
      "housing          -0.496\n",
      "loan             -0.215\n",
      "duration          1.487\n",
      "campaign         -0.433\n",
      "pdays            -0.054\n",
      "previous          0.232\n",
      "x0_admin.         0.027\n",
      "x0_blue-collar   -0.089\n",
      "x0_entrepreneur  -0.030\n",
      "x0_housemaid     -0.012\n",
      "x0_management    -0.009\n",
      "x0_retired        0.130\n",
      "x0_self-employed -0.006\n",
      "x0_services      -0.012\n",
      "x0_student        0.106\n",
      "x0_technician    -0.011\n",
      "x0_unemployed     0.017\n",
      "x0_unknown        0.020\n",
      "x0_divorced      -0.038\n",
      "x0_married       -0.001\n",
      "x0_single         0.029\n",
      "x0_primary       -0.025\n",
      "x0_secondary     -0.011\n",
      "x0_tertiary       0.033\n",
      "x0_unknown       -0.001\n",
      "x0_cellular       0.221\n",
      "x0_telephone      0.159\n",
      "x0_unknown       -0.318\n",
      "x0_apr            0.248\n",
      "x0_aug           -0.032\n",
      "x0_dec            0.085\n",
      "x0_feb           -0.132\n",
      "x0_jan           -0.053\n",
      "x0_jul           -0.176\n",
      "x0_jun            0.018\n",
      "x0_mar            0.083\n",
      "x0_may            0.027\n",
      "x0_nov           -0.073\n",
      "x0_oct            0.202\n",
      "x0_sep            0.181\n",
      "x0_failure        0.046\n",
      "x0_other          0.033\n",
      "x0_success        0.187\n",
      "x0_unknown       -0.139\n"
     ]
    }
   ],
   "source": [
    "print(\"stack model logistic regression model coefficients:\")\n",
    "print(pd.DataFrame(stack.estimators_[1].coef_.round(3),columns=X.columns).T)\n",
    "#print(pd.DataFrame(stack.estimators_[0].feature_importances_.round(3), X.columns.T))\n",
    "print(\"stack_1 model logistic regression model coefficients:\")\n",
    "print(pd.DataFrame(stack_1.estimators_[1].coef_.round(3),columns=X.columns).T)"
   ]
  },
  {
   "cell_type": "code",
   "execution_count": 38,
   "metadata": {},
   "outputs": [
    {
     "name": "stdout",
     "output_type": "stream",
     "text": [
      "stack model rf model feature_omportance:\n",
      "                      0\n",
      "age               0.116\n",
      "default           0.002\n",
      "balance           0.112\n",
      "housing           0.027\n",
      "loan              0.012\n",
      "duration          0.295\n",
      "campaign          0.044\n",
      "pdays             0.040\n",
      "previous          0.023\n",
      "x0_admin.         0.011\n",
      "x0_blue-collar    0.011\n",
      "x0_entrepreneur   0.004\n",
      "x0_housemaid      0.004\n",
      "x0_management     0.011\n",
      "x0_retired        0.008\n",
      "x0_self-employed  0.005\n",
      "x0_services       0.009\n",
      "x0_student        0.005\n",
      "x0_technician     0.012\n",
      "x0_unemployed     0.005\n",
      "x0_unknown        0.001\n",
      "x0_divorced       0.009\n",
      "x0_married        0.015\n",
      "x0_single         0.014\n",
      "x0_primary        0.009\n",
      "x0_secondary      0.014\n",
      "x0_tertiary       0.012\n",
      "x0_unknown        0.006\n",
      "x0_cellular       0.009\n",
      "x0_telephone      0.006\n",
      "x0_unknown        0.009\n",
      "x0_apr            0.013\n",
      "x0_aug            0.011\n",
      "x0_dec            0.003\n",
      "x0_feb            0.007\n",
      "x0_jan            0.006\n",
      "x0_jul            0.008\n",
      "x0_jun            0.005\n",
      "x0_mar            0.004\n",
      "x0_may            0.011\n",
      "x0_nov            0.008\n",
      "x0_oct            0.011\n",
      "x0_sep            0.010\n",
      "x0_failure        0.008\n",
      "x0_other          0.005\n",
      "x0_success        0.012\n",
      "x0_unknown        0.015\n",
      "stack_1 model rf model feature_omportance:\n",
      "                      0\n",
      "age               0.087\n",
      "default           0.002\n",
      "balance           0.088\n",
      "housing           0.033\n",
      "loan              0.012\n",
      "duration          0.370\n",
      "campaign          0.041\n",
      "pdays             0.039\n",
      "previous          0.022\n",
      "x0_admin.         0.008\n",
      "x0_blue-collar    0.010\n",
      "x0_entrepreneur   0.004\n",
      "x0_housemaid      0.003\n",
      "x0_management     0.008\n",
      "x0_retired        0.007\n",
      "x0_self-employed  0.004\n",
      "x0_services       0.007\n",
      "x0_student        0.004\n",
      "x0_technician     0.008\n",
      "x0_unemployed     0.004\n",
      "x0_unknown        0.001\n",
      "x0_divorced       0.007\n",
      "x0_married        0.011\n",
      "x0_single         0.010\n",
      "x0_primary        0.007\n",
      "x0_secondary      0.010\n",
      "x0_tertiary       0.009\n",
      "x0_unknown        0.004\n",
      "x0_cellular       0.014\n",
      "x0_telephone      0.006\n",
      "x0_unknown        0.019\n",
      "x0_apr            0.020\n",
      "x0_aug            0.010\n",
      "x0_dec            0.002\n",
      "x0_feb            0.008\n",
      "x0_jan            0.005\n",
      "x0_jul            0.010\n",
      "x0_jun            0.005\n",
      "x0_mar            0.003\n",
      "x0_may            0.011\n",
      "x0_nov            0.008\n",
      "x0_oct            0.009\n",
      "x0_sep            0.009\n",
      "x0_failure        0.007\n",
      "x0_other          0.004\n",
      "x0_success        0.010\n",
      "x0_unknown        0.022\n",
      "stack_2 model rf model feature_omportance:\n",
      "                      0\n",
      "age               0.085\n",
      "default           0.002\n",
      "balance           0.086\n",
      "housing           0.032\n",
      "loan              0.011\n",
      "duration          0.373\n",
      "campaign          0.040\n",
      "pdays             0.038\n",
      "previous          0.023\n",
      "x0_admin.         0.007\n",
      "x0_blue-collar    0.010\n",
      "x0_entrepreneur   0.004\n",
      "x0_housemaid      0.003\n",
      "x0_management     0.009\n",
      "x0_retired        0.007\n",
      "x0_self-employed  0.004\n",
      "x0_services       0.006\n",
      "x0_student        0.004\n",
      "x0_technician     0.008\n",
      "x0_unemployed     0.004\n",
      "x0_unknown        0.001\n",
      "x0_divorced       0.007\n",
      "x0_married        0.011\n",
      "x0_single         0.010\n",
      "x0_primary        0.007\n",
      "x0_secondary      0.010\n",
      "x0_tertiary       0.009\n",
      "x0_unknown        0.004\n",
      "x0_cellular       0.013\n",
      "x0_telephone      0.005\n",
      "x0_unknown        0.023\n",
      "x0_apr            0.019\n",
      "x0_aug            0.011\n",
      "x0_dec            0.002\n",
      "x0_feb            0.008\n",
      "x0_jan            0.005\n",
      "x0_jul            0.011\n",
      "x0_jun            0.005\n",
      "x0_mar            0.004\n",
      "x0_may            0.011\n",
      "x0_nov            0.008\n",
      "x0_oct            0.009\n",
      "x0_sep            0.009\n",
      "x0_failure        0.006\n",
      "x0_other          0.004\n",
      "x0_success        0.010\n",
      "x0_unknown        0.022\n"
     ]
    }
   ],
   "source": [
    "print(\"stack model rf model feature_omportance:\")\n",
    "print(pd.DataFrame(stack.estimators_[0].feature_importances_.round(3), X.columns.T))\n",
    "print(\"stack_1 model rf model feature_omportance:\")\n",
    "print(pd.DataFrame(stack_1.estimators_[0].feature_importances_.round(3), X.columns.T))\n",
    "print(\"stack_2 model rf model feature_omportance:\")\n",
    "print(pd.DataFrame(stack_2.estimators_[0].feature_importances_.round(3), X.columns.T))"
   ]
  },
  {
   "cell_type": "code",
   "execution_count": 40,
   "metadata": {},
   "outputs": [
    {
     "data": {
      "text/plain": [
       "Index(['age', 'default', 'balance', 'housing', 'loan', 'duration', 'campaign',\n",
       "       'pdays', 'previous', 'x0_admin.', 'x0_blue-collar', 'x0_entrepreneur',\n",
       "       'x0_housemaid', 'x0_management', 'x0_retired', 'x0_self-employed',\n",
       "       'x0_services', 'x0_student', 'x0_technician', 'x0_unemployed',\n",
       "       'x0_unknown', 'x0_divorced', 'x0_married', 'x0_single', 'x0_primary',\n",
       "       'x0_secondary', 'x0_tertiary', 'x0_unknown', 'x0_cellular',\n",
       "       'x0_telephone', 'x0_unknown', 'x0_apr', 'x0_aug', 'x0_dec', 'x0_feb',\n",
       "       'x0_jan', 'x0_jul', 'x0_jun', 'x0_mar', 'x0_may', 'x0_nov', 'x0_oct',\n",
       "       'x0_sep', 'x0_failure', 'x0_other', 'x0_success', 'x0_unknown'],\n",
       "      dtype='object')"
      ]
     },
     "execution_count": 40,
     "metadata": {},
     "output_type": "execute_result"
    }
   ],
   "source": [
    "X.columns"
   ]
  },
  {
   "cell_type": "code",
   "execution_count": 41,
   "metadata": {},
   "outputs": [],
   "source": [
    "X_1 = X.drop(['x0_admin.', 'x0_blue-collar', 'x0_entrepreneur',\n",
    "       'x0_housemaid', 'x0_management', 'x0_retired', 'x0_self-employed',\n",
    "       'x0_services', 'x0_student', 'x0_technician', 'x0_unemployed',\n",
    "       'x0_unknown', 'x0_divorced', 'x0_married', 'x0_single', 'x0_primary',\n",
    "       'x0_secondary', 'x0_tertiary', 'x0_unknown'], axis=1)"
   ]
  },
  {
   "cell_type": "code",
   "execution_count": 42,
   "metadata": {},
   "outputs": [],
   "source": [
    "X_train_1, X_test_1, y_train_1, y_test_1 = train_test_split(X_1, y, random_state=42)"
   ]
  },
  {
   "cell_type": "code",
   "execution_count": 43,
   "metadata": {},
   "outputs": [],
   "source": [
    "ss = StandardScaler()\n",
    "\n",
    "X_train_1 = ss.fit_transform(X_train_1)\n",
    "X_test_1 = ss.fit_transform(X_test_1)"
   ]
  },
  {
   "cell_type": "code",
   "execution_count": 44,
   "metadata": {},
   "outputs": [
    {
     "data": {
      "text/plain": [
       "0.9436944041385401"
      ]
     },
     "execution_count": 44,
     "metadata": {},
     "output_type": "execute_result"
    }
   ],
   "source": [
    "estimators = [  \n",
    "              ('rf', RandomForestClassifier(n_estimators = 100, class_weight='balanced')),\n",
    "              ('grad', GradientBoostingClassifier())\n",
    "            ]\n",
    "stack_3 = StackingClassifier(estimators = estimators, final_estimator = LogisticRegression(class_weight='balanced'), cv = 5)\n",
    "stack_3.fit(X_train_1, y_train_1);\n",
    "stack_3.score(X_train_1, y_train_1)"
   ]
  },
  {
   "cell_type": "code",
   "execution_count": 46,
   "metadata": {},
   "outputs": [
    {
     "name": "stdout",
     "output_type": "stream",
     "text": [
      "Accuracy: 0.877554882664648\n",
      "Precision: 0.4316996871741397\n",
      "Recall: 0.8023255813953488\n",
      "F1: 0.5613559322033898\n",
      "\n",
      "\n"
     ]
    }
   ],
   "source": [
    "metrics(y_test_1, stack_3.predict(X_test_1))"
   ]
  },
  {
   "cell_type": "code",
   "execution_count": null,
   "metadata": {},
   "outputs": [],
   "source": [
    "print(confusion_)"
   ]
  },
  {
   "cell_type": "code",
   "execution_count": 45,
   "metadata": {},
   "outputs": [
    {
     "data": {
      "text/plain": [
       "0.9461548167308056"
      ]
     },
     "execution_count": 45,
     "metadata": {},
     "output_type": "execute_result"
    }
   ],
   "source": [
    "estimators = [  \n",
    "              ('rf', RandomForestClassifier(n_estimators = 100)),\n",
    "              ('grad', GradientBoostingClassifier())\n",
    "            ]\n",
    "stack_4 = StackingClassifier(estimators = estimators, final_estimator = LogisticRegression(class_weight='balanced'), cv = 5)\n",
    "stack_4.fit(X_train_1, y_train_1);\n",
    "stack_4.score(X_train_1, y_train_1)"
   ]
  },
  {
   "cell_type": "code",
   "execution_count": 47,
   "metadata": {},
   "outputs": [
    {
     "name": "stdout",
     "output_type": "stream",
     "text": [
      "Accuracy: 0.8765140045420137\n",
      "Precision: 0.428496595075956\n",
      "Recall: 0.7926356589147286\n",
      "F1: 0.5562733764025841\n",
      "\n",
      "\n"
     ]
    }
   ],
   "source": [
    "metrics(y_test_1, stack_4.predict(X_test_1))"
   ]
  },
  {
   "cell_type": "code",
   "execution_count": null,
   "metadata": {},
   "outputs": [],
   "source": []
  }
 ],
 "metadata": {
  "kernelspec": {
   "display_name": "Python [conda env:learn-env] *",
   "language": "python",
   "name": "conda-env-learn-env-py"
  },
  "language_info": {
   "codemirror_mode": {
    "name": "ipython",
    "version": 3
   },
   "file_extension": ".py",
   "mimetype": "text/x-python",
   "name": "python",
   "nbconvert_exporter": "python",
   "pygments_lexer": "ipython3",
   "version": "3.6.9"
  }
 },
 "nbformat": 4,
 "nbformat_minor": 4
}
